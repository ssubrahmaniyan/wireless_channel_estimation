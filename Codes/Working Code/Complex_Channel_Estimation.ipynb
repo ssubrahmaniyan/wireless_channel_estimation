{
 "cells": [
  {
   "cell_type": "code",
   "execution_count": 235,
   "id": "62c8d3bf-1009-48a9-9920-4dd197581089",
   "metadata": {
    "tags": []
   },
   "outputs": [],
   "source": [
    "import numpy as np\n",
    "import math\n",
    "from scipy.linalg import lstsq\n",
    "from sklearn.metrics import mean_squared_error"
   ]
  },
  {
   "cell_type": "code",
   "execution_count": 257,
   "id": "6f57674c-a374-49c7-94df-05385199d29a",
   "metadata": {
    "tags": []
   },
   "outputs": [],
   "source": [
    "# Signal and channel parameters (as per your input)\n",
    "Fs = 100000    # Sampling frequency\n",
    "Fc = 2e9          # Carrier frequency\n",
    "Fd = 100*(100 / Fs)   # Doppler frequency = 100\n",
    "Tc = 1 / (10 * Fd)  # Coherence time based on Doppler frequency\n",
    "N = 100000        # Number of data points in the signal\n",
    "M = 3             # Number of different channel values (multi-path)\n",
    "packet_size = math.floor(Fs * Tc)//5  # Size of each packet\n",
    "header_packet_size = math.floor((1 / 6) * packet_size)  # Known part of the signal (header)\n",
    "noise_SNR = 10\n",
    "noise_level = 1 / noise_SNR  # Noise level (1/SNR)"
   ]
  },
  {
   "cell_type": "code",
   "execution_count": 259,
   "id": "474e55bb-0425-4c83-8482-0984bd867bb3",
   "metadata": {
    "tags": []
   },
   "outputs": [],
   "source": [
    "# Generate BPSK signal\n",
    "def generate_bpsk_signal(N):\n",
    "    bits = np.random.randint(0, 2, N)\n",
    "    return 2 * bits - 1  # BPSK mapping: 0 -> -1, 1 -> 1\n"
   ]
  },
  {
   "cell_type": "code",
   "execution_count": 261,
   "id": "5ac933d8-825a-460f-8aa9-7d45c88eacea",
   "metadata": {
    "tags": []
   },
   "outputs": [],
   "source": [
    "# Sum-of-sines model for Rayleigh fading channel\n",
    "def sum_of_sines_model(N, Fd, Fs):\n",
    "    t = np.arange(N) / Fs\n",
    "    num_sines = 8  # Number of sinusoids\n",
    "    doppler_shift = np.linspace(-Fd, Fd, num_sines)\n",
    "    phases = np.random.uniform(0, 2 * np.pi, num_sines)\n",
    "    channel = np.zeros(N, dtype=complex)\n",
    "    \n",
    "    for i in range(num_sines):\n",
    "        channel += np.exp(1j * (2 * np.pi * doppler_shift[i] * t + phases[i]))\n",
    "    \n",
    "    channel /= np.sqrt(num_sines)  # Normalize power\n",
    "    return channel"
   ]
  },
  {
   "cell_type": "code",
   "execution_count": 263,
   "id": "f5b0ba75-aa12-4584-a8f0-a9bf187a28a9",
   "metadata": {
    "tags": []
   },
   "outputs": [],
   "source": [
    "# Add noise to the signal based on SNR\n",
    "def add_noise(signal, snr_db):\n",
    "    snr_linear = 10**(snr_db / 10)\n",
    "    signal_power = np.mean(np.abs(signal)**2)\n",
    "    noise_power = signal_power / snr_linear\n",
    "    noise = np.sqrt(noise_power / 2) * (\n",
    "        np.random.randn(*signal.shape) + 1j * np.random.randn(*signal.shape)\n",
    "    )\n",
    "    return signal + noise"
   ]
  },
  {
   "cell_type": "code",
   "execution_count": 265,
   "id": "f1353d30-ee66-4103-8930-eb74b5e875fe",
   "metadata": {
    "tags": []
   },
   "outputs": [],
   "source": [
    "# Compute BER\n",
    "def compute_ber(original_bits, estimated_bits):\n",
    "    errors = np.sum(original_bits != estimated_bits)\n",
    "    return errors / len(original_bits)\n"
   ]
  },
  {
   "cell_type": "code",
   "execution_count": 267,
   "id": "aa6028f7-b2fb-414d-a525-4b0a7ffd9c21",
   "metadata": {
    "tags": []
   },
   "outputs": [],
   "source": [
    "# BPSK demodulation\n",
    "def bpsk_demodulate(signal):\n",
    "    return np.where(np.real(signal) >= 0, 1, -1)"
   ]
  },
  {
   "cell_type": "code",
   "execution_count": 269,
   "id": "71fd004d-090d-43d8-89e7-d77836091c3f",
   "metadata": {
    "tags": []
   },
   "outputs": [],
   "source": [
    "# Main function to calculate BER and MSE for M independent channels\n",
    "def calculate_ber_mse(M, N, Fd, Fs, packet_size, header_packet_size, noise_level):\n",
    "    signal = generate_bpsk_signal(N)  # Generate BPSK signal\n",
    "    num_packets = N // packet_size     # Number of packets\n",
    "    \n",
    "    for i in range(M):\n",
    "        print(f\"\\nChannel {i + 1}:\")\n",
    "        \n",
    "        # Generate Rayleigh fading channel\n",
    "        channel = sum_of_sines_model(packet_size, Fd, Fs)\n",
    "        \n",
    "        total_ber = 0\n",
    "        total_mse = 0\n",
    "        total_bits = 0\n",
    "        total_header_bits = 0\n",
    "        \n",
    "        # Process each packet\n",
    "        for packet_idx in range(num_packets):\n",
    "            # Get the start and end of the current packet\n",
    "            packet_start = packet_idx * packet_size\n",
    "            packet_end = packet_start + packet_size\n",
    "            \n",
    "            # Current packet of signal and assume constant channel for the packet\n",
    "            packet_signal = signal[packet_start:packet_end]\n",
    "            packet_channel = np.full(packet_size, channel[packet_idx])\n",
    "            \n",
    "            # Transmit signal through channel\n",
    "            transmitted_signal = packet_signal * packet_channel\n",
    "            \n",
    "            # Add noise\n",
    "            noisy_signal = add_noise(transmitted_signal, noise_level)\n",
    "            \n",
    "            # Least squares estimation over the header part\n",
    "            header_start = 0\n",
    "            header_end = header_packet_size\n",
    "            header_transmitted = packet_signal[header_start:header_end]\n",
    "            header_noisy = noisy_signal[header_start:header_end]\n",
    "            \n",
    "            # Perform least squares estimation to estimate the channel\n",
    "            channel_estimated, _, _, _ = lstsq(header_transmitted.reshape(-1, 1), header_noisy)\n",
    "            \n",
    "            # Equalization for the entire packet\n",
    "            equalized_signal = noisy_signal * np.conj(channel_estimated) / np.abs(channel_estimated)**2\n",
    "            \n",
    "            # BPSK demodulation\n",
    "            demodulated_signal = bpsk_demodulate(equalized_signal)\n",
    "            \n",
    "            # Compute BER for the packet (excluding header)\n",
    "            data_start = header_packet_size\n",
    "            data_end = packet_size\n",
    "            ber = compute_ber(packet_signal[data_start:data_end], demodulated_signal[data_start:data_end])\n",
    "            \n",
    "            # Compute MSE for the header\n",
    "            mse = mean_squared_error(np.abs(packet_channel[header_start:header_end]), np.abs(np.full(header_packet_size, channel_estimated)))\n",
    "            \n",
    "            # Update total counts\n",
    "            total_ber += ber * (data_end - data_start)\n",
    "            total_mse += mse * header_packet_size\n",
    "            total_bits += (data_end - data_start)\n",
    "            total_header_bits += header_packet_size\n",
    "        \n",
    "        # Final BER and MSE for this channel\n",
    "        final_ber = total_ber / total_bits\n",
    "        final_mse = total_mse / total_header_bits\n",
    "        \n",
    "        # Print results\n",
    "        print(f\"  BER: {final_ber:.9f}\")\n",
    "        print(f\"  MSE: {final_mse:.9f}\")\n"
   ]
  },
  {
   "cell_type": "code",
   "execution_count": 271,
   "id": "762153fa-c3a7-419e-9afa-d9311343ac7c",
   "metadata": {
    "tags": []
   },
   "outputs": [
    {
     "name": "stdout",
     "output_type": "stream",
     "text": [
      "\n",
      "Channel 1:\n",
      "  BER: 0.077266455\n",
      "  MSE: 0.000201497\n",
      "\n",
      "Channel 2:\n",
      "  BER: 0.075394492\n",
      "  MSE: 0.000037073\n",
      "\n",
      "Channel 3:\n",
      "  BER: 0.075238495\n",
      "  MSE: 0.000038802\n"
     ]
    }
   ],
   "source": [
    "# Call the function to calculate and print BER and MSE for M channels\n",
    "calculate_ber_mse(M, N, Fd, Fs, packet_size, header_packet_size, noise_level)"
   ]
  },
  {
   "cell_type": "code",
   "execution_count": null,
   "id": "5960c8fa-e8c3-4415-9979-5fd90a264bbe",
   "metadata": {},
   "outputs": [],
   "source": []
  }
 ],
 "metadata": {
  "kernelspec": {
   "display_name": "Python 3 (ipykernel)",
   "language": "python",
   "name": "python3"
  },
  "language_info": {
   "codemirror_mode": {
    "name": "ipython",
    "version": 3
   },
   "file_extension": ".py",
   "mimetype": "text/x-python",
   "name": "python",
   "nbconvert_exporter": "python",
   "pygments_lexer": "ipython3",
   "version": "3.11.5"
  }
 },
 "nbformat": 4,
 "nbformat_minor": 5
}
