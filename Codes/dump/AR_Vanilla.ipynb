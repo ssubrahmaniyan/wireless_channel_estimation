{
 "cells": [
  {
   "cell_type": "markdown",
   "id": "57caab82-663b-4ca6-9f9b-894af3eb8bcd",
   "metadata": {},
   "source": [
    "Doubts from the paper:\n",
    "1. Converting a white noise driven AR model to produce a Channel with accuracy comparable to SOS\n",
    "2. Our first step is to use a high order AR model to generate samples close to the given sequence\n",
    "3. Very unstable values when running with 12, 12 parameters, the value diverges quickly\n",
    "\n",
    "To get a benchmark - plot out the frequency of retransmitting pilots - Fp, versus the Doppler frequency - Fd. \n",
    "The topmost curve is without using any modulation, just copying Jakes\n",
    "Then if we use the previous channel to get the next channel value, then the curve will go down\n",
    "The LSTM curve should be the lowest\n",
    "\n",
    "Magnitude and phase - use it to do adaptive AR, no ARMA. "
   ]
  },
  {
   "cell_type": "code",
   "execution_count": 10,
   "id": "4b4f2245-c073-4755-aafa-77889d77fd06",
   "metadata": {
    "tags": []
   },
   "outputs": [],
   "source": [
    "import numpy as np\n",
    "import matplotlib.pyplot as plt\n",
    "from statsmodels.tsa.arima_process import ArmaProcess\n",
    "from scipy.signal import correlate\n",
    "from scipy.linalg import toeplitz\n",
    "from scipy.optimize import curve_fit"
   ]
  },
  {
   "cell_type": "code",
   "execution_count": 168,
   "id": "3ec0b05f-6da5-4b04-9904-57905a56ecce",
   "metadata": {
    "tags": []
   },
   "outputs": [],
   "source": [
    "# Function for Sum of Sinusoids (SOS) method for Jakes channel generation\n",
    "def jakes_sos(P, Fs, Fd, N, typ):\n",
    "    t = np.linspace(0, P/Fs, P)\n",
    "    omega_d = 2 * np.pi * Fd\n",
    "    K = 1  # Number of random processes\n",
    "\n",
    "    # Initialize jakes_rvs to store real or complex numbers\n",
    "    jakes_rvs = np.zeros((K, P), dtype=complex)\n",
    "\n",
    "    for k in range(K):\n",
    "        alpha = np.random.uniform(0, 2 * np.pi, N)\n",
    "        alpha_m = np.array([((2 * np.pi * n) - np.pi + al)/(4*N) for n, al in enumerate(alpha)])\n",
    "        a_m = np.random.uniform(0, 2 * np.pi, N)\n",
    "        b_m = np.random.uniform(0, 2 * np.pi, N)\n",
    "\n",
    "        cosine_terms = np.cos((omega_d * t[:, None] * np.cos(alpha_m)) + a_m)\n",
    "        real_part = np.sqrt(1/N) * np.sum(cosine_terms, axis=1)\n",
    "\n",
    "        if typ == 'comp':\n",
    "            sine_terms = np.sin((omega_d * t[:, None] * np.cos(alpha_m)) + b_m)\n",
    "            imag_part = np.sqrt(1/N) * np.sum(sine_terms, axis=1)\n",
    "            jakes_rvs[k] = real_part + 1j * imag_part\n",
    "        else:\n",
    "            jakes_rvs[k] = real_part + 1j * 0  # Enforce complex representation\n",
    "\n",
    "    return jakes_rvs[0]  # Return the first (and only) process"
   ]
  },
  {
   "cell_type": "code",
   "execution_count": 170,
   "id": "4c2452ec-286a-4174-8d60-8da9a1539881",
   "metadata": {
    "tags": []
   },
   "outputs": [],
   "source": [
    "# Function to create AR(P) model for Rayleigh fading\n",
    "def create_ar_p_model(P, autocorr):\n",
    "    # Use Yule-Walker equations to compute AR coefficients\n",
    "    r = autocorr[:P+1]  # First P+1 lags of autocorrelation\n",
    "    R = toeplitz(r[:-1])  # Create Toeplitz matrix\n",
    "    ar_coeffs = np.linalg.solve(R, -r[1:])\n",
    "    return ar_coeffs\n",
    "\n",
    "# ARMA model equation\n",
    "def arma_model(x, *params):\n",
    "    p = len(params) // 2  # Half of the parameters for AR(p), half for MA(q)\n",
    "    ar_params = np.r_[1, -np.array(params[:p])]  # AR parameters (with proper sign)\n",
    "    ma_params = np.r_[1, np.array(params[p:])]   # MA parameters\n",
    "    arma_process = ArmaProcess(ar_params, ma_params)\n",
    "    return arma_process.generate_sample(nsample=len(x))\n",
    "\n",
    "# Use least squares fitting to identify ARMA(p, q) coefficients with more evaluations and bounds\n",
    "def arma_system_identification(ar_process_data, order_p, order_q):\n",
    "    # Remove any NaNs or infinities from the data\n",
    "    valid_data = np.isfinite(ar_process_data)\n",
    "    x_data = np.arange(len(ar_process_data))[valid_data]  # Filter x indices\n",
    "    y_data = ar_process_data[valid_data]                  # Filter valid y data\n",
    "\n",
    "    # Initial guess for ARMA parameters (better guess: small random values or zeros)\n",
    "    initial_guess = np.zeros(order_p + order_q)\n",
    "\n",
    "    # Fit the ARMA model using least squares (curve_fit minimizes squared error)\n",
    "    # Increase maxfev for more evaluations, and set bounds for the ARMA parameters\n",
    "    optimal_params, _ = curve_fit(\n",
    "        arma_model, x_data, y_data, p0=initial_guess, maxfev=20000,  # Increased maxfev\n",
    "        bounds=(-10, 10)  # Constrain parameters within a reasonable range\n",
    "    )\n",
    "\n",
    "    # Separate AR and MA coefficients\n",
    "    ar_params = optimal_params[:order_p]\n",
    "    ma_params = optimal_params[order_p:]\n",
    "    \n",
    "    return ar_params, ma_params"
   ]
  },
  {
   "cell_type": "code",
   "execution_count": 172,
   "id": "3b2b31e4-0151-4107-9779-3ed23ed4c4d5",
   "metadata": {
    "tags": []
   },
   "outputs": [],
   "source": [
    "# Plot autocorrelation comparison\n",
    "def plot_autocorrelation(original_channel, arma_channel, sos_channel, Fs):\n",
    "    lags = 1000  # Number of lags for autocorrelation\n",
    "    autocorr_original = correlate(original_channel, original_channel, mode='full')\n",
    "    autocorr_original = autocorr_original[autocorr_original.size // 2:]\n",
    "    autocorr_original /= np.max(np.abs(autocorr_original))\n",
    "\n",
    "    autocorr_arma = correlate(arma_channel, arma_channel, mode='full')\n",
    "    autocorr_arma = autocorr_arma[autocorr_arma.size // 2:]\n",
    "    autocorr_arma /= np.max(np.abs(autocorr_arma))\n",
    "\n",
    "    autocorr_sos = correlate(sos_channel, sos_channel, mode='full')\n",
    "    autocorr_sos = autocorr_sos[autocorr_sos.size // 2:]\n",
    "    autocorr_sos /= np.max(np.abs(autocorr_sos))\n",
    "\n",
    "    time_axis = np.arange(lags) / Fs\n",
    "\n",
    "    plt.figure(figsize=(12, 6))\n",
    "    plt.plot(time_axis[:lags], np.real(autocorr_original[:lags]), label='Original SOS Jakes Channel')\n",
    "    plt.plot(time_axis[:lags], np.real(autocorr_arma[:lags]), label='ARMA Model Channel (12, 12)', linestyle='--')\n",
    "    plt.plot(time_axis[:lags], np.real(autocorr_sos[:lags]), label='SOS Jakes Channel', linestyle=':')\n",
    "    plt.title('Autocorrelation Functions Comparison')\n",
    "    plt.xlabel('Time Lag (s)')\n",
    "    plt.ylabel('Autocorrelation')\n",
    "    plt.legend()\n",
    "    plt.grid(True)\n",
    "    plt.show()"
   ]
  },
  {
   "cell_type": "code",
   "execution_count": 174,
   "id": "ce60ae3a-6f81-4ca6-bb78-c070e3d335cd",
   "metadata": {
    "tags": []
   },
   "outputs": [],
   "source": [
    "# Function to insert original SOS values periodically\n",
    "def insert_periodic_sos_values(arma_channel, sos_channel, period=100):\n",
    "    arma_channel = np.copy(arma_channel)  # Avoid modifying original arma_channel in-place\n",
    "    arma_channel[::period] = sos_channel[::period]  # Insert SOS values every 'period' samples\n",
    "    return arma_channel"
   ]
  },
  {
   "cell_type": "code",
   "execution_count": null,
   "id": "6a67e154-436f-40fc-9bed-1d497f2076f8",
   "metadata": {
    "tags": []
   },
   "outputs": [],
   "source": [
    "# Main comparison function\n",
    "def main():\n",
    "    # Parameters\n",
    "    P = 10000000  # Number of samples\n",
    "    Fd = 100  # Doppler spread\n",
    "    N = 100  # Number of sinusoids\n",
    "    Fs = 10000  # Sampling frequency\n",
    "    typ = 'comp'  # Complex channel\n",
    "\n",
    "    # Generate Jakes fading channel using SOS method\n",
    "    sos_channel = jakes_sos(P, Fs, Fd, N, typ)\n",
    "\n",
    "    # Obtain autocorrelation sequence from the SOS method\n",
    "    autocorr_sos = correlate(sos_channel, sos_channel, mode='full')[P - 1:]\n",
    "\n",
    "    # Create AR(P) model (P = 50)\n",
    "    P_order = 50\n",
    "    ar_params = create_ar_p_model(P_order, autocorr_sos)\n",
    "\n",
    "    # Generate AR(P) process using identified AR parameters\n",
    "    arma_process = ArmaProcess(np.r_[1, -ar_params], np.r_[1])\n",
    "    ar_process_data = arma_process.generate_sample(nsample=P)\n",
    "\n",
    "    # Use least squares (curve_fit) to identify ARMA(12,12) model\n",
    "    order_p, order_q = 12, 12\n",
    "    ar_params, ma_params = arma_system_identification(ar_process_data, order_p, order_q)\n",
    "\n",
    "    # Generate new ARMA(12,12) channel using the identified ARMA parameters\n",
    "    arma_process = ArmaProcess(np.r_[1, -ar_params], np.r_[1, ma_params])\n",
    "    arma_channel = arma_process.generate_sample(nsample=P)\n",
    "\n",
    "    # Insert periodic SOS values into ARMA channel to stabilize it\n",
    "    arma_channel_with_sos = insert_periodic_sos_values(arma_channel, sos_channel, period=100)\n",
    "\n",
    "    # Plot and compare autocorrelation functions\n",
    "    plot_autocorrelation(sos_channel, arma_channel_with_sos, sos_channel, Fs)\n",
    "    \n",
    "    # Plot magnitude comparison between SOS and ARMA(12,12) with SOS value insertion\n",
    "    plt.figure(figsize=(12, 6))\n",
    "    plt.plot(np.abs(sos_channel[:1000]), label='Original SOS Jakes Channel')\n",
    "    plt.plot(np.abs(arma_channel_with_sos[:1000]), label='ARMA(12,12) with SOS Insertion', linestyle='--')\n",
    "    plt.title('Channel Magnitude Comparison')\n",
    "    plt.xlabel('Sample Index')\n",
    "    plt.ylabel('Magnitude')\n",
    "    plt.legend()\n",
    "    plt.grid(True)\n",
    "    plt.show()\n",
    "\n",
    "if __name__ == \"__main__\":\n",
    "    main()"
   ]
  },
  {
   "cell_type": "code",
   "execution_count": null,
   "id": "996e1812-d374-4609-9e02-b114c49549e7",
   "metadata": {},
   "outputs": [],
   "source": []
  }
 ],
 "metadata": {
  "kernelspec": {
   "display_name": "Python 3 (ipykernel)",
   "language": "python",
   "name": "python3"
  },
  "language_info": {
   "codemirror_mode": {
    "name": "ipython",
    "version": 3
   },
   "file_extension": ".py",
   "mimetype": "text/x-python",
   "name": "python",
   "nbconvert_exporter": "python",
   "pygments_lexer": "ipython3",
   "version": "3.11.5"
  }
 },
 "nbformat": 4,
 "nbformat_minor": 5
}
