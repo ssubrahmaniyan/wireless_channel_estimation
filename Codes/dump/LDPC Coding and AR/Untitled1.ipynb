{
 "cells": [
  {
   "cell_type": "code",
   "execution_count": null,
   "id": "cb0bb57b-9b95-4ef6-8d0c-61d84e6ad01f",
   "metadata": {},
   "outputs": [],
   "source": [
    "def generate_channels_for_doppler_frequencies(Fd, Fs, N):\n",
    "    # Convert Fd to array if single value\n",
    "    channels = np.zeros(N, dtype=complex)\n",
    "    # Design Jakes filter\n",
    "    filter_length = 512  # Filter length\n",
    "    L = filter_length // 2\n",
    "    Ts = 1/Fs\n",
    "\n",
    "    # Generate filter coefficients\n",
    "    n = np.arange(1, L+1)\n",
    "    # Positive frequencies part\n",
    "    J_pos = special.jv(0.25, 2*np.pi*Fd*n*Ts) / (n**0.25)\n",
    "    # Negative frequencies part (mirror of positive)\n",
    "    J_neg = np.flip(J_pos)\n",
    "    # Center coefficient\n",
    "    J_0 = 1.468813 * (Fd*Ts)**0.25\n",
    "\n",
    "    # Combine all parts\n",
    "    J = np.concatenate([J_neg, [J_0], J_pos])\n",
    "\n",
    "    # Apply Hamming window\n",
    "    n_window = np.arange(filter_length + 1)\n",
    "    hamming = 0.54 - 0.46 * np.cos(2*np.pi*n_window/filter_length)\n",
    "    hw = J * hamming\n",
    "\n",
    "    # Normalize filter\n",
    "    hw = hw / np.sqrt(np.sum(np.abs(hw)**2))\n",
    "\n",
    "    # Generate complex Gaussian noise\n",
    "    noise_real = np.random.normal(0, 1/np.sqrt(2), N + len(hw) - 1)\n",
    "    noise_imag = np.random.normal(0, 1/np.sqrt(2), N + len(hw) - 1)\n",
    "    complex_noise = noise_real + 1j*noise_imag\n",
    "\n",
    "    # Filter the noise\n",
    "    filtered_signal = signal.convolve(complex_noise, hw, mode='valid')\n",
    "\n",
    "    # Store the channel values\n",
    "    channels = filtered_signal[:N]\n",
    "\n",
    "    return channels"
   ]
  },
  {
   "cell_type": "code",
   "execution_count": null,
   "id": "20bfef17-f1ee-4633-92c9-f24ff66a0e16",
   "metadata": {},
   "outputs": [],
   "source": []
  }
 ],
 "metadata": {
  "kernelspec": {
   "display_name": "Python 3 (ipykernel)",
   "language": "python",
   "name": "python3"
  },
  "language_info": {
   "codemirror_mode": {
    "name": "ipython",
    "version": 3
   },
   "file_extension": ".py",
   "mimetype": "text/x-python",
   "name": "python",
   "nbconvert_exporter": "python",
   "pygments_lexer": "ipython3",
   "version": "3.11.5"
  }
 },
 "nbformat": 4,
 "nbformat_minor": 5
}
