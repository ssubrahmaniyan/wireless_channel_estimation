{
 "cells": [
  {
   "cell_type": "code",
   "execution_count": 1,
   "id": "dcf123ea-7b3f-4d8f-b408-1bfe6aed3a51",
   "metadata": {
    "tags": []
   },
   "outputs": [
    {
     "name": "stdout",
     "output_type": "stream",
     "text": [
      "Requirement already satisfied: pyldpc in c:\\users\\vigne\\anaconda3\\lib\\site-packages (0.7.9)\n",
      "Requirement already satisfied: numpy in c:\\users\\vigne\\anaconda3\\lib\\site-packages (from pyldpc) (1.24.3)\n",
      "Requirement already satisfied: scipy in c:\\users\\vigne\\anaconda3\\lib\\site-packages (from pyldpc) (1.11.1)\n",
      "Requirement already satisfied: numba in c:\\users\\vigne\\anaconda3\\lib\\site-packages (from pyldpc) (0.57.1)\n",
      "Requirement already satisfied: llvmlite<0.41,>=0.40.0dev0 in c:\\users\\vigne\\anaconda3\\lib\\site-packages (from numba->pyldpc) (0.40.0)\n",
      "Note: you may need to restart the kernel to use updated packages.\n"
     ]
    }
   ],
   "source": [
    "pip install pyldpc"
   ]
  },
  {
   "cell_type": "code",
   "execution_count": 5,
   "id": "c7f29369-2ccb-444d-8d36-554afde83550",
   "metadata": {
    "tags": []
   },
   "outputs": [],
   "source": [
    "import numpy as np\n",
    "from pyldpc import make_ldpc, encode, decode, get_message\n",
    "from utils import *\n",
    "import matplotlib.pyplot as plt\n",
    "from statsmodels.tsa.api import VAR\n",
    "import json\n",
    "from statsmodels.tsa.ar_model import AutoReg\n",
    "import numpy as np\n",
    "from sympy import Matrix\n",
    "import json\n",
    "import argparse\n",
    "from math import log"
   ]
  },
  {
   "cell_type": "code",
   "execution_count": 12,
   "id": "03e9c216-5ffd-4480-a08a-75b23de610a0",
   "metadata": {
    "tags": []
   },
   "outputs": [],
   "source": [
    "#Demo with 11 bits (0 and 1) to be transmitted\n",
    "#0 becomes 1 and 1 becomes -1 in symbol, coding is done before converting to a symbol, and decoding of the message occurs after converting the symbols to bits\n",
    "n1 = 6\n",
    "d_v1 = 3\n",
    "d_c1 = 6\n",
    "snr = 10 #fixed if we fix the other 3 (not snr)"
   ]
  },
  {
   "cell_type": "code",
   "execution_count": 14,
   "id": "12163134-c51f-4a46-81b9-71c029f857f9",
   "metadata": {
    "tags": []
   },
   "outputs": [
    {
     "name": "stdout",
     "output_type": "stream",
     "text": [
      "(6, 5)\n"
     ]
    }
   ],
   "source": [
    "H1, G1 = make_ldpc(n1, d_v1, d_c1, systematic=True, sparse=True)\n",
    "print(G1.shape)\n"
   ]
  },
  {
   "cell_type": "code",
   "execution_count": null,
   "id": "0459bad3-0a63-40ed-bacc-ae152fb910f3",
   "metadata": {},
   "outputs": [],
   "source": []
  }
 ],
 "metadata": {
  "kernelspec": {
   "display_name": "Python 3 (ipykernel)",
   "language": "python",
   "name": "python3"
  },
  "language_info": {
   "codemirror_mode": {
    "name": "ipython",
    "version": 3
   },
   "file_extension": ".py",
   "mimetype": "text/x-python",
   "name": "python",
   "nbconvert_exporter": "python",
   "pygments_lexer": "ipython3",
   "version": "3.11.5"
  }
 },
 "nbformat": 4,
 "nbformat_minor": 5
}
