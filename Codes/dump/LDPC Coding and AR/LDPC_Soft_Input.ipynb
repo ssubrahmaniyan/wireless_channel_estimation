{
 "cells": [
  {
   "cell_type": "code",
   "execution_count": 2,
   "id": "f5e5a365-f4b7-4057-9164-ae24c99eb018",
   "metadata": {
    "tags": []
   },
   "outputs": [
    {
     "name": "stdout",
     "output_type": "stream",
     "text": [
      "Requirement already satisfied: pyldpc in c:\\users\\vigne\\anaconda3\\lib\\site-packages (0.7.9)\n",
      "Requirement already satisfied: numpy in c:\\users\\vigne\\anaconda3\\lib\\site-packages (from pyldpc) (1.24.3)\n",
      "Requirement already satisfied: scipy in c:\\users\\vigne\\anaconda3\\lib\\site-packages (from pyldpc) (1.11.1)\n",
      "Requirement already satisfied: numba in c:\\users\\vigne\\anaconda3\\lib\\site-packages (from pyldpc) (0.57.1)\n",
      "Requirement already satisfied: llvmlite<0.41,>=0.40.0dev0 in c:\\users\\vigne\\anaconda3\\lib\\site-packages (from numba->pyldpc) (0.40.0)\n",
      "Note: you may need to restart the kernel to use updated packages.\n"
     ]
    }
   ],
   "source": [
    "pip install pyldpc"
   ]
  },
  {
   "cell_type": "code",
   "execution_count": 2,
   "id": "29784268-94c7-4762-bc54-8190286bb95e",
   "metadata": {
    "tags": []
   },
   "outputs": [],
   "source": [
    "import numpy as np\n",
    "from pyldpc import make_ldpc, encode, decode, get_message\n",
    "from utils import *\n",
    "import matplotlib.pyplot as plt\n",
    "from statsmodels.tsa.api import VAR\n",
    "import json\n",
    "from statsmodels.tsa.ar_model import AutoReg\n",
    "import numpy as np\n",
    "from sympy import Matrix\n",
    "import json\n",
    "import argparse\n",
    "from math import log"
   ]
  },
  {
   "cell_type": "code",
   "execution_count": 4,
   "id": "d5888f2c",
   "metadata": {},
   "outputs": [
    {
     "name": "stdout",
     "output_type": "stream",
     "text": [
      "Requirement already satisfied: matlabengine in c:\\users\\vigne\\anaconda3\\lib\\site-packages (24.2.2)\n",
      "Note: you may need to restart the kernel to use updated packages.\n"
     ]
    }
   ],
   "source": [
    "pip install matlabengine"
   ]
  },
  {
   "cell_type": "code",
   "execution_count": 5,
   "id": "2efbf00f",
   "metadata": {},
   "outputs": [],
   "source": [
    "import matlab.engine"
   ]
  },
  {
   "cell_type": "code",
   "execution_count": 6,
   "id": "20a65826",
   "metadata": {},
   "outputs": [],
   "source": [
    "eng = matlab.engine.start_matlab()"
   ]
  },
  {
   "cell_type": "markdown",
   "id": "02d11476-e9bf-4116-b060-45ee25418b0a",
   "metadata": {},
   "source": [
    "### Functions to be used "
   ]
  },
  {
   "cell_type": "code",
   "execution_count": 3,
   "id": "4bc24dd8-c043-4a1f-be2c-73d1da33d294",
   "metadata": {
    "tags": []
   },
   "outputs": [],
   "source": [
    "def generate_random_symbols(n):\n",
    "    # Generate n random bits as -1 or 1 using uniform sampling.\n",
    "    return np.random.choice([-1, 1], size=n)\n",
    "\n",
    "\n",
    "def transmit_data(data, channel, snr_db):\n",
    "    # Apply channel gain to the transmitted data.\n",
    "    signal = channel * data\n",
    "    # Calculate the signal power.\n",
    "    signal_power = np.mean(np.abs(signal)**2)\n",
    "    # Convert SNR from dB to linear scale and compute noise power.\n",
    "    noise_power = signal_power / (10**(snr_db / 10))\n",
    "    # Generate complex Gaussian noise.\n",
    "    noise = np.sqrt(noise_power / 2) * (np.random.randn(len(data)) + 1j * np.random.randn(len(data)))\n",
    "    # Add noise to the signal to create the received signal.\n",
    "    return signal + noise\n",
    "\n",
    "\n",
    "def transmit_data_awgn(data, snr_db):\n",
    "    # Apply channel gain to the transmitted data.\n",
    "    signal = data\n",
    "    # Calculate the signal power.\n",
    "    signal_power = np.mean(np.abs(signal)**2)\n",
    "    # Convert SNR from dB to linear scale and compute noise power.\n",
    "    noise_power = signal_power / (10**(snr_db / 10))\n",
    "    # Generate complex Gaussian noise.\n",
    "    noise = np.sqrt(noise_power / 2) * (np.random.randn(len(data)) + 1j * np.random.randn(len(data)))\n",
    "    # Add noise to the signal to create the received signal.\n",
    "    return signal + noise\n",
    "\n",
    "\n",
    "def estimate_channel(received, data):\n",
    "    # Reshape the transmitted data for matrix operations.\n",
    "    X = data.reshape(-1, 1)\n",
    "    # Perform least squares estimation to solve for the channel.\n",
    "    h = np.linalg.lstsq(X, received, rcond=None)[0][0]\n",
    "    return h\n",
    "\n",
    "\n",
    "def number_of_symbols(N, n, k):\n",
    "    T = N // (k)\n",
    "    #This is the number of symbols to be transmitted\n",
    "    N1 = T*n\n",
    "    return int(N1)\n",
    "\n",
    "\n",
    "def decoder_custom_awgn(received):\n",
    "    list1 = np.sign(np.real(received))\n",
    "    list2 = []\n",
    "    for i in list1:\n",
    "        if i == -1:\n",
    "            list2.append(1)\n",
    "        if i == 1:\n",
    "            list2.append(0)\n",
    "    return list2\n",
    "\n",
    "\n",
    "def decoder_custom_jakes(received, channel):\n",
    "    list1 = np.sign(np.real(received / channel))\n",
    "    list2 = []\n",
    "    for i in list1:\n",
    "        if i == -1:\n",
    "            list2.append(1)\n",
    "        if i == 1:\n",
    "            list2.append(0)\n",
    "    return list2\n",
    "\n",
    "\n",
    "def generate_channels_for_doppler_frequencies(Fd, Fs, N):\n",
    "    def jakes_sos(P, K, Fs, Fd, N, typ):\n",
    "        t = np.linspace(0, P/Fs, P)\n",
    "        omega_d = 2 * np.pi * Fd\n",
    "        \n",
    "        # Initialize jakes_rvs to store real or complex numbers\n",
    "        jakes_rvs = np.zeros((K, P), dtype=complex)\n",
    "        \n",
    "        for k in range(K):\n",
    "            alpha = np.random.uniform(0, 2 * np.pi, N)\n",
    "            alpha_m = np.array([((2 * np.pi * n) - np.pi + al)/(4*N) for n, al in enumerate(alpha)])\n",
    "            a_m = np.random.uniform(0, 2 * np.pi, N)\n",
    "            b_m = np.random.uniform(0, 2 * np.pi, N)\n",
    "            \n",
    "            cosine_terms = np.cos((omega_d * t[:, None] * np.cos(alpha_m)) + a_m)\n",
    "            real_part = np.sqrt(1/N) * np.sum(cosine_terms, axis=1)\n",
    "            \n",
    "            if typ == 'comp':\n",
    "                sine_terms = np.sin((omega_d * t[:, None] * np.cos(alpha_m)) + b_m)\n",
    "                imag_part = np.sqrt(1/N) * np.sum(sine_terms, axis=1)\n",
    "                jakes_rvs[k] = real_part + 1j * imag_part\n",
    "            else:\n",
    "                jakes_rvs[k] = real_part + 1j * 0 # Enforcing the real numbers also to be modelled as complex for easy use\n",
    "        \n",
    "        return jakes_rvs\n",
    "    P = N\n",
    "    K = 1\n",
    "    typ = 'comp'\n",
    "    jakes_rvs = jakes_sos(P, K, Fs, Fd, 100, typ)\n",
    "    correlated_jakes_rvs = jakes_rvs\n",
    "    # Open a file to write the generated channels\n",
    "    with open(\"channels.txt\", \"w\") as fo:\n",
    "        # Iterate through each sample\n",
    "        for i in range(P):\n",
    "            # Extract the i-th sample\n",
    "            new_sample = correlated_jakes_rvs[:, i]\n",
    "            # Serialize complex numbers as (real, imag) pairs\n",
    "            new_sample_serialized = [(z.real, z.imag) for z in new_sample]\n",
    "            # Write serialized sample to the file\n",
    "            json.dump(new_sample_serialized, fo)\n",
    "            # Add a newline after each serialized sample\n",
    "            fo.write('\\n')\n",
    "    # Return the generated Jakes random variables\n",
    "    return correlated_jakes_rvs\n"
   ]
  },
  {
   "cell_type": "markdown",
   "id": "2511cdf4-2ce4-4e9c-b559-c86fc9a2d7c7",
   "metadata": {},
   "source": [
    "### Simulation of the pipeline for transmission"
   ]
  },
  {
   "cell_type": "code",
   "execution_count": 4,
   "id": "9f3511b2",
   "metadata": {},
   "outputs": [
    {
     "data": {
      "text/plain": [
       "array([[-0.56375683+0.81880986j, -0.56341028+0.81828215j,\n",
       "        -0.56306364+0.81775435j, ...,  0.2861337 -0.99780321j,\n",
       "         0.28601234-0.99749417j,  0.285891  -0.99718502j]])"
      ]
     },
     "execution_count": 4,
     "metadata": {},
     "output_type": "execute_result"
    }
   ],
   "source": [
    "Fd = 100\n",
    "Fs = 10000000\n",
    "N1 = 10000000\n",
    "generate_channels_for_doppler_frequencies(Fd, Fs, N1)"
   ]
  }
 ],
 "metadata": {
  "kernelspec": {
   "display_name": "base",
   "language": "python",
   "name": "python3"
  },
  "language_info": {
   "codemirror_mode": {
    "name": "ipython",
    "version": 3
   },
   "file_extension": ".py",
   "mimetype": "text/x-python",
   "name": "python",
   "nbconvert_exporter": "python",
   "pygments_lexer": "ipython3",
   "version": "3.11.5"
  }
 },
 "nbformat": 4,
 "nbformat_minor": 5
}
