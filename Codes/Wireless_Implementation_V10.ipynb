{
 "cells": [
  {
   "cell_type": "code",
   "execution_count": 1,
   "id": "320641d0-04ee-4642-922f-29419b5a46c0",
   "metadata": {
    "tags": []
   },
   "outputs": [],
   "source": [
    "import numpy as np\n",
    "import matplotlib.pyplot as plt\n",
    "from scipy import special\n",
    "from sklearn.metrics import mean_squared_error\n",
    "from tensorflow.keras.models import Sequential\n",
    "from tensorflow.keras.layers import LSTM, Dense\n",
    "import copy"
   ]
  },
  {
   "cell_type": "code",
   "execution_count": 2,
   "id": "7880978b-a485-479d-b74c-4a5f9a833828",
   "metadata": {
    "tags": []
   },
   "outputs": [],
   "source": [
    "# Existing functions as provided\n",
    "def generate_digital_signal(length):\n",
    "    return np.random.choice([-1, 1], size=length)\n"
   ]
  },
  {
   "cell_type": "code",
   "execution_count": 5,
   "id": "19ae3d83-dd9c-4c35-b141-8dd60e3b9af0",
   "metadata": {
    "tags": []
   },
   "outputs": [],
   "source": [
    "def Jakes_filter(f_max, Ts, N):\n",
    "    L = N // 2\n",
    "    n = np.arange(1, L + 1)\n",
    "    J_pos = special.jv(0.25, 2 * np.pi * f_max * n * Ts) / (n ** 0.25)\n",
    "    J_neg = np.flip(J_pos)\n",
    "    J_0 = 1.468813 * (f_max * Ts) ** 0.25\n",
    "    J = np.concatenate((J_neg, [J_0], J_pos))\n",
    "    n = np.arange(0, N + 1)\n",
    "    hamm = 0.54 - 0.46 * np.cos(2 * np.pi * n / N)\n",
    "    hw = J * hamm\n",
    "    hw = hw / np.sqrt(np.sum(np.abs(hw) ** 2))\n",
    "    return hw\n",
    "\n",
    "def generate_rayleigh_envelope(signal_length, fd):\n",
    "    Fs = 10000  # Sampling frequency\n",
    "    N = 512\n",
    "    Ts = 1 / Fs\n",
    "    h = Jakes_filter(fd, Ts, N)  # Jakes filter\n",
    "    x = np.random.randn(signal_length + 1000)\n",
    "    y = np.convolve(x, h, 'valid')\n",
    "    return y\n"
   ]
  },
  {
   "cell_type": "code",
   "execution_count": 7,
   "id": "fcce8298-e9b0-4c38-8b33-0a1d39836798",
   "metadata": {
    "tags": []
   },
   "outputs": [],
   "source": [
    "def apply_rayleigh_fading(signal, y):\n",
    "    signal2 = copy.deepcopy(signal)\n",
    "    for i in range(len(signal2)):\n",
    "        signal2[i] *= y[i]\n",
    "    return signal2, y[:len(signal2)]\n"
   ]
  },
  {
   "cell_type": "code",
   "execution_count": 9,
   "id": "b7dc18b1-7db3-4426-8fbe-48e6ffb6c4c4",
   "metadata": {
    "tags": []
   },
   "outputs": [],
   "source": [
    "def add_awgn_noise(signal, snr_db):\n",
    "    snr = 10 ** (snr_db / 10)\n",
    "    signal_power = np.mean(signal ** 2)\n",
    "    noise_power = signal_power / snr\n",
    "    noise = np.sqrt(noise_power) * np.random.normal(size=signal.shape)\n",
    "    return signal + noise\n"
   ]
  },
  {
   "cell_type": "code",
   "execution_count": 11,
   "id": "0a7df7cf-acd6-4986-b3ee-5c52141411b8",
   "metadata": {
    "tags": []
   },
   "outputs": [],
   "source": [
    "def lstm_predict_h(y_values, window_length):\n",
    "    model = Sequential()\n",
    "    model.add(LSTM(50, input_shape=(window_length, 1)))\n",
    "    model.add(Dense(1))\n",
    "    model.compile(optimizer='adam', loss='mean_squared_error')\n",
    "    \n",
    "    X = []\n",
    "    y = []\n",
    "    for i in range(window_length, len(y_values)):\n",
    "        X.append(y_values[i-window_length:i])\n",
    "        y.append(y_values[i])\n",
    "        \n",
    "    X, y = np.array(X), np.array(y)\n",
    "    X = X.reshape((X.shape[0], X.shape[1], 1))\n",
    "    \n",
    "    model.fit(X, y, epochs=5, batch_size=32, verbose=0)\n",
    "    \n",
    "    # Predict next h values\n",
    "    predictions = []\n",
    "    for i in range(window_length, len(y_values)):\n",
    "        predictions.append(model.predict(X[i-window_length].reshape(1, window_length, 1), verbose=0)[0][0])\n",
    "    \n",
    "    return predictions"
   ]
  },
  {
   "cell_type": "code",
   "execution_count": 13,
   "id": "f184c9c0-6bbe-4999-a29f-48f607741542",
   "metadata": {
    "tags": []
   },
   "outputs": [],
   "source": [
    "def run_lstm_prediction():\n",
    "    signal_length = 51200\n",
    "    packet_size = 256\n",
    "    snr_db = 10 * np.log10(1000)\n",
    "    doppler_frequencies = np.arange(10, 310, 10)\n",
    "    window_lengths = np.arange(5, 205, 5)\n",
    "    \n",
    "    mse_results = []\n",
    "    \n",
    "    original_signal = generate_digital_signal(signal_length)\n",
    "\n",
    "    for fd in doppler_frequencies:\n",
    "        rayleigh_envelope = generate_rayleigh_envelope(signal_length, fd)\n",
    "        faded_signal, actual_y = apply_rayleigh_fading(original_signal, rayleigh_envelope)\n",
    "        noisy_signal = add_awgn_noise(faded_signal, snr_db)\n",
    "        \n",
    "        for window_length in window_lengths:\n",
    "            predicted_h = lstm_predict_h(actual_y, window_length)\n",
    "            predicted_h = np.concatenate((actual_y[:window_length], predicted_h))  # Aligning the predicted h\n",
    "            \n",
    "            # Applying estimated h (from LSTM) to the noisy signal\n",
    "            estimated_signal = apply_channel_estimation(noisy_signal, predicted_h[:len(noisy_signal) // packet_size])\n",
    "            estimated_signal2 = digitize(estimated_signal)\n",
    "            \n",
    "            mse = mean_squared_error(original_signal, estimated_signal2)\n",
    "            mse_results.append((fd, window_length, mse))\n",
    "    \n",
    "    # Plotting results\n",
    "    mse_results = np.array(mse_results)\n",
    "    plt.figure(figsize=(14, 7))\n",
    "    \n",
    "    for fd in doppler_frequencies:\n",
    "        plt.plot(mse_results[mse_results[:, 0] == fd][:, 1], mse_results[mse_results[:, 0] == fd][:, 2], label=f'Doppler Frequency = {fd} Hz')\n",
    "    \n",
    "    plt.title('MSE vs Window Length for Different Doppler Frequencies')\n",
    "    plt.xlabel('Window Length')\n",
    "    plt.ylabel('MSE')\n",
    "    plt.legend()\n",
    "    plt.grid(True)\n",
    "    plt.show()\n"
   ]
  },
  {
   "cell_type": "code",
   "execution_count": 15,
   "id": "b23f2d7b-192e-4c09-bf73-039e6b156bf3",
   "metadata": {
    "tags": []
   },
   "outputs": [
    {
     "name": "stderr",
     "output_type": "stream",
     "text": [
      "C:\\Users\\vigne\\anaconda3\\Lib\\site-packages\\keras\\src\\layers\\rnn\\rnn.py:204: UserWarning: Do not pass an `input_shape`/`input_dim` argument to a layer. When using Sequential models, prefer using an `Input(shape)` object as the first layer in the model instead.\n",
      "  super().__init__(**kwargs)\n"
     ]
    },
    {
     "ename": "NameError",
     "evalue": "name 'apply_channel_estimation' is not defined",
     "output_type": "error",
     "traceback": [
      "\u001b[1;31m---------------------------------------------------------------------------\u001b[0m",
      "\u001b[1;31mNameError\u001b[0m                                 Traceback (most recent call last)",
      "Cell \u001b[1;32mIn[15], line 1\u001b[0m\n\u001b[1;32m----> 1\u001b[0m run_lstm_prediction()\n",
      "Cell \u001b[1;32mIn[13], line 22\u001b[0m, in \u001b[0;36mrun_lstm_prediction\u001b[1;34m()\u001b[0m\n\u001b[0;32m     19\u001b[0m predicted_h \u001b[38;5;241m=\u001b[39m np\u001b[38;5;241m.\u001b[39mconcatenate((actual_y[:window_length], predicted_h))  \u001b[38;5;66;03m# Aligning the predicted h\u001b[39;00m\n\u001b[0;32m     21\u001b[0m \u001b[38;5;66;03m# Applying estimated h (from LSTM) to the noisy signal\u001b[39;00m\n\u001b[1;32m---> 22\u001b[0m estimated_signal \u001b[38;5;241m=\u001b[39m apply_channel_estimation(noisy_signal, predicted_h[:\u001b[38;5;28mlen\u001b[39m(noisy_signal) \u001b[38;5;241m/\u001b[39m\u001b[38;5;241m/\u001b[39m packet_size])\n\u001b[0;32m     23\u001b[0m estimated_signal2 \u001b[38;5;241m=\u001b[39m digitize(estimated_signal)\n\u001b[0;32m     25\u001b[0m mse \u001b[38;5;241m=\u001b[39m mean_squared_error(original_signal, estimated_signal2)\n",
      "\u001b[1;31mNameError\u001b[0m: name 'apply_channel_estimation' is not defined"
     ]
    }
   ],
   "source": [
    "run_lstm_prediction()"
   ]
  },
  {
   "cell_type": "code",
   "execution_count": null,
   "id": "d5df4af7-5355-4d12-991a-bea5148a51c4",
   "metadata": {},
   "outputs": [],
   "source": []
  }
 ],
 "metadata": {
  "kernelspec": {
   "display_name": "Python 3 (ipykernel)",
   "language": "python",
   "name": "python3"
  },
  "language_info": {
   "codemirror_mode": {
    "name": "ipython",
    "version": 3
   },
   "file_extension": ".py",
   "mimetype": "text/x-python",
   "name": "python",
   "nbconvert_exporter": "python",
   "pygments_lexer": "ipython3",
   "version": "3.11.5"
  }
 },
 "nbformat": 4,
 "nbformat_minor": 5
}
